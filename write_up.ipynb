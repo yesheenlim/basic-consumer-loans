{
 "cells": [
  {
   "cell_type": "markdown",
   "metadata": {},
   "source": [
    "# Consumer Loan Pricing"
   ]
  },
  {
   "cell_type": "code",
   "execution_count": 1,
   "metadata": {},
   "outputs": [],
   "source": [
    "import loans"
   ]
  },
  {
   "cell_type": "markdown",
   "metadata": {},
   "source": [
    "The loans module contains the following functions *compute_annuity()* and *get_cashflow_schedule()* for pricing a basic consumer loan, plus a couple of utility functions. A functional programming approach is used over an object-oriented approach because simpler is always better, and for computing annuity and cashflow schedule, defining a class is not necessary. Using just pure functions, the risk of side effects from managing changing states is avoided and extension to concurrency is also straightforward."
   ]
  },
  {
   "cell_type": "code",
   "execution_count": 2,
   "metadata": {},
   "outputs": [
    {
     "name": "stdout",
     "output_type": "stream",
     "text": [
      "Help on function compute_annuity in module loans:\n",
      "\n",
      "compute_annuity(apr, principal, nterms)\n",
      "    Computes and returns the annuity of a basic consumer loan.\n",
      "    \n",
      "    Args:\n",
      "        apr: The APR of the loan.\n",
      "        principal: The initial size of the loan.\n",
      "        nterms: The number of terms (in month) of the loan.\n",
      "    \n",
      "    Returns:\n",
      "        decimal: A Decimal object representing the monthly annuity.\n",
      "\n"
     ]
    }
   ],
   "source": [
    "help(loans.compute_annuity)"
   ]
  },
  {
   "cell_type": "code",
   "execution_count": 3,
   "metadata": {},
   "outputs": [
    {
     "name": "stdout",
     "output_type": "stream",
     "text": [
      "Help on function get_cashflow_schedule in module loans:\n",
      "\n",
      "get_cashflow_schedule(apr, principal, nterms, date0, dateT)\n",
      "    Computes and returns a dataframe of cashflow schedule.\n",
      "    \n",
      "    Args:\n",
      "        apr: The APR of the loan.\n",
      "        principal: The initial size of the loan.\n",
      "        nterms: The number of terms (in month) of the loan.\n",
      "        date0: The start date of the loan.\n",
      "        dateT: The repayment date of the loan.\n",
      "    \n",
      "    Returns:\n",
      "        dataframe: A Pandas object with the cashflow schedule.\n",
      "\n"
     ]
    }
   ],
   "source": [
    "help(loans.get_cashflow_schedule)"
   ]
  },
  {
   "cell_type": "markdown",
   "metadata": {},
   "source": [
    "The *compute_annuity()* function takes in the APR, principal and number of terms, and returns the monthly annuity using the simple amortised loan equation. The *get_cashflow_schedule()* use *compute_annuity()* to generate a cashflow schedule and returns a Pandas dataframe containing the payment dates, the payment amounts, the principal and interest components of the payments, and the balance. Unfortunately, the current version of the *loans* module generates the cashflow schedule imperatively rather than declaratively, which is to do in the future.\n",
    "\n",
    "In both functions, all operations are done on the Python *decimal* type instead *float* due to the importance of computing precise values in financial applications. It should be noted that although the decimal type is rather slow in Python 2.7x, in Python 3 Decimal runs on a C backend so it should be much faster."
   ]
  },
  {
   "cell_type": "markdown",
   "metadata": {},
   "source": [
    "Using a small SQL database, the functionality of the *loans* module is tested as follows. The SQL database is queried into a Pandas dataframe. To be done in the future is to write a Client class and use SQLAlchemy ORM to map the class to the database."
   ]
  },
  {
   "cell_type": "code",
   "execution_count": 4,
   "metadata": {},
   "outputs": [],
   "source": [
    "import sqlite3 as lite\n",
    "import pandas as pd\n",
    "\n",
    "con = lite.connect('loans.db')\n",
    "\n",
    "with con:    \n",
    " \n",
    "    cur = con.cursor()\n",
    "    \n",
    "    query = \"SELECT * FROM Loans\"\n",
    "    \n",
    "    df = pd.read_sql(query,con)"
   ]
  },
  {
   "cell_type": "code",
   "execution_count": 8,
   "metadata": {
    "scrolled": false
   },
   "outputs": [
    {
     "name": "stdout",
     "output_type": "stream",
     "text": [
      "---------------------------------------\n",
      "Cashflow for ClientID 9dn6RsSnE8Mh\n",
      "---------------------------------------\n",
      "   Annuity (£) Interest Component (£) Principal Component (£) Balance (£)  \\\n",
      "0            0                      0                       0        6400   \n",
      "1       506.46                  26.07                  480.39     5919.61   \n",
      "2       506.46                  24.12                  482.34     5437.27   \n",
      "3       506.46                  22.15                  484.31     4952.96   \n",
      "4       506.46                  20.18                  486.28     4466.68   \n",
      "5       506.46                  18.20                  488.26     3978.41   \n",
      "6       506.46                  16.21                  490.25     3488.16   \n",
      "7       506.46                  14.21                  492.25     2995.91   \n",
      "8       506.46                  12.21                  494.26     2501.65   \n",
      "9       506.46                  10.19                  496.27     2005.38   \n",
      "10      506.46                   8.17                  498.29     1507.09   \n",
      "11      506.46                   6.14                  500.32     1006.77   \n",
      "12      506.46                   4.10                  502.36      504.41   \n",
      "13      506.46                   2.06                  504.41        0.00   \n",
      "\n",
      "          Date  \n",
      "0   2018-03-16  \n",
      "1   2018-04-16  \n",
      "2   2018-05-16  \n",
      "3   2018-06-16  \n",
      "4   2018-07-16  \n",
      "5   2018-08-16  \n",
      "6   2018-09-16  \n",
      "7   2018-10-16  \n",
      "8   2018-11-16  \n",
      "9   2018-12-16  \n",
      "10  2019-01-16  \n",
      "11  2019-02-16  \n",
      "12  2019-03-16  \n",
      "13  2019-04-16  \n",
      "\n",
      "\n",
      "---------------------------------------\n",
      "Cashflow for ClientID qCjCbu945Wd5\n",
      "---------------------------------------\n",
      "  Annuity (£) Interest Component (£) Principal Component (£) Balance (£)  \\\n",
      "0           0                      0                       0       12000   \n",
      "1     1736.81                  39.28                 1697.52    10302.48   \n",
      "2     1736.81                  33.73                 1703.08     8599.40   \n",
      "3     1736.81                  28.15                 1708.66     6890.74   \n",
      "4     1736.81                  22.56                 1714.25     5176.49   \n",
      "5     1736.81                  16.95                 1719.86     3456.63   \n",
      "6     1736.81                  11.32                 1725.49     1731.14   \n",
      "7     1736.81                   5.67                 1731.14        0.00   \n",
      "\n",
      "         Date  \n",
      "0  2018-02-04  \n",
      "1  2018-03-04  \n",
      "2  2018-04-04  \n",
      "3  2018-05-04  \n",
      "4  2018-06-04  \n",
      "5  2018-07-04  \n",
      "6  2018-08-04  \n",
      "7  2018-09-04  \n",
      "\n",
      "\n",
      "---------------------------------------\n",
      "Cashflow for ClientID Y3dk3N3MnABL\n",
      "---------------------------------------\n",
      "   Annuity (£) Interest Component (£) Principal Component (£) Balance (£)  \\\n",
      "0            0                      0                       0       10000   \n",
      "1       651.17                  48.68                  602.50     9397.50   \n",
      "2       651.17                  45.74                  605.43     8792.07   \n",
      "3       651.17                  42.80                  608.38     8183.70   \n",
      "4       651.17                  39.83                  611.34     7572.36   \n",
      "5       651.17                  36.86                  614.31     6958.04   \n",
      "6       651.17                  33.87                  617.30     6340.74   \n",
      "7       651.17                  30.86                  620.31     5720.43   \n",
      "8       651.17                  27.84                  623.33     5097.10   \n",
      "9       651.17                  24.81                  626.36     4470.74   \n",
      "10      651.17                  21.76                  629.41     3841.33   \n",
      "11      651.17                  18.70                  632.47     3208.85   \n",
      "12      651.17                  15.62                  635.55     2573.30   \n",
      "13      651.17                  12.53                  638.65     1934.65   \n",
      "14      651.17                   9.42                  641.76     1292.90   \n",
      "15      651.17                   6.29                  644.88      648.02   \n",
      "16      651.17                   3.15                  648.02        0.00   \n",
      "\n",
      "          Date  \n",
      "0   2017-12-05  \n",
      "1   2018-01-05  \n",
      "2   2018-02-05  \n",
      "3   2018-03-05  \n",
      "4   2018-04-05  \n",
      "5   2018-05-05  \n",
      "6   2018-06-05  \n",
      "7   2018-07-05  \n",
      "8   2018-08-05  \n",
      "9   2018-09-05  \n",
      "10  2018-10-05  \n",
      "11  2018-11-05  \n",
      "12  2018-12-05  \n",
      "13  2019-01-05  \n",
      "14  2019-02-05  \n",
      "15  2019-03-05  \n",
      "16  2019-04-05  \n",
      "\n",
      "\n",
      "---------------------------------------\n",
      "Cashflow for ClientID hbDbJzUaS5ep\n",
      "---------------------------------------\n",
      "   Annuity (£) Interest Component (£) Principal Component (£) Balance (£)  \\\n",
      "0            0                      0                       0       32000   \n",
      "1      3272.14                 130.37                 3141.77    28858.23   \n",
      "2      3272.14                 117.57                 3154.57    25703.66   \n",
      "3      3272.14                 104.72                 3167.42    22536.24   \n",
      "4      3272.14                  91.82                 3180.33    19355.91   \n",
      "5      3272.14                  78.86                 3193.28    16162.63   \n",
      "6      3272.14                  65.85                 3206.29    12956.33   \n",
      "7      3272.14                  52.79                 3219.36     9736.98   \n",
      "8      3272.14                  39.67                 3232.47     6504.51   \n",
      "9      3272.14                  26.50                 3245.64     3258.86   \n",
      "10     3272.14                  13.28                 3258.86        0.00   \n",
      "\n",
      "          Date  \n",
      "0   2018-05-01  \n",
      "1   2018-06-01  \n",
      "2   2018-07-01  \n",
      "3   2018-08-01  \n",
      "4   2018-09-01  \n",
      "5   2018-10-01  \n",
      "6   2018-11-01  \n",
      "7   2018-12-01  \n",
      "8   2019-01-01  \n",
      "9   2019-02-01  \n",
      "10  2019-03-01  \n",
      "\n",
      "\n",
      "---------------------------------------\n",
      "Cashflow for ClientID Qn7Fx8MHscSv\n",
      "---------------------------------------\n",
      "  Annuity (£) Interest Component (£) Principal Component (£) Balance (£)  \\\n",
      "0           0                      0                       0       27500   \n",
      "1     6917.44                  67.82                 6849.62    20650.38   \n",
      "2     6917.44                  50.93                 6866.51    13783.87   \n",
      "3     6917.44                  33.99                 6883.45     6900.42   \n",
      "4     6917.44                  17.02                 6900.42        0.00   \n",
      "\n",
      "         Date  \n",
      "0  2018-03-31  \n",
      "1  2018-04-30  \n",
      "2  2018-05-30  \n",
      "3  2018-06-30  \n",
      "4  2018-07-30  \n",
      "\n",
      "\n"
     ]
    }
   ],
   "source": [
    "for idx,client in df.iterrows():\n",
    "    cashdf = loans.get_cashflow_schedule(client.APR,client.Principal,client.NumTerms,client.LentDate,client.RepaymentDate)\n",
    "    \n",
    "    print('---------------------------------------')\n",
    "    print('Cashflow for ClientID '+client.ClientID)\n",
    "    print('---------------------------------------')\n",
    "    print(cashdf)\n",
    "    print('\\n')"
   ]
  }
 ],
 "metadata": {
  "kernelspec": {
   "display_name": "Python 2",
   "language": "python",
   "name": "python2"
  },
  "language_info": {
   "codemirror_mode": {
    "name": "ipython",
    "version": 2
   },
   "file_extension": ".py",
   "mimetype": "text/x-python",
   "name": "python",
   "nbconvert_exporter": "python",
   "pygments_lexer": "ipython2",
   "version": "2.7.10"
  }
 },
 "nbformat": 4,
 "nbformat_minor": 2
}
