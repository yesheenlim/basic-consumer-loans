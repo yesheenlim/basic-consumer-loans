{
 "cells": [
  {
   "cell_type": "markdown",
   "metadata": {},
   "source": [
    "# Consumer Loan Pricing"
   ]
  },
  {
   "cell_type": "markdown",
   "metadata": {},
   "source": [
    "etc"
   ]
  },
  {
   "cell_type": "code",
   "execution_count": 1,
   "metadata": {},
   "outputs": [],
   "source": [
    "import sqlite3 as lite\n",
    "import loan_methods as loan\n",
    "import pandas as pd"
   ]
  },
  {
   "cell_type": "code",
   "execution_count": 2,
   "metadata": {},
   "outputs": [],
   "source": [
    "con = lite.connect('loans.db')"
   ]
  },
  {
   "cell_type": "code",
   "execution_count": 3,
   "metadata": {},
   "outputs": [],
   "source": [
    "with con:    \n",
    " \n",
    "    cur = con.cursor()\n",
    "    \n",
    "    query = \"SELECT * FROM Loans\"\n",
    "    \n",
    "    df = pd.read_sql(query,con)"
   ]
  },
  {
   "cell_type": "code",
   "execution_count": 4,
   "metadata": {},
   "outputs": [
    {
     "name": "stdout",
     "output_type": "stream",
     "text": [
      "615.74\n",
      "2141.84\n",
      "816.29\n",
      "4080.88\n",
      "8245.79\n"
     ]
    }
   ],
   "source": [
    "for idx,client in df.iterrows():\n",
    "    print(loan.compute_annuity(client.APR,client.Principal,client.NumTerms))"
   ]
  },
  {
   "cell_type": "code",
   "execution_count": 5,
   "metadata": {},
   "outputs": [
    {
     "ename": "AttributeError",
     "evalue": "'module' object has no attribute 'get_cashflow_schedule'",
     "output_type": "error",
     "traceback": [
      "\u001b[0;31m---------------------------------------------------------------------------\u001b[0m",
      "\u001b[0;31mAttributeError\u001b[0m                            Traceback (most recent call last)",
      "\u001b[0;32m<ipython-input-5-120054d981e3>\u001b[0m in \u001b[0;36m<module>\u001b[0;34m()\u001b[0m\n\u001b[0;32m----> 1\u001b[0;31m \u001b[0mloan\u001b[0m\u001b[0;34m.\u001b[0m\u001b[0mget_cashflow_schedule\u001b[0m\u001b[0;34m(\u001b[0m\u001b[0mapr\u001b[0m\u001b[0;34m,\u001b[0m\u001b[0mprincipal\u001b[0m\u001b[0;34m,\u001b[0m\u001b[0mnterms\u001b[0m\u001b[0;34m,\u001b[0m\u001b[0mdate0\u001b[0m\u001b[0;34m,\u001b[0m\u001b[0mdateT\u001b[0m\u001b[0;34m)\u001b[0m\u001b[0;34m\u001b[0m\u001b[0m\n\u001b[0m",
      "\u001b[0;31mAttributeError\u001b[0m: 'module' object has no attribute 'get_cashflow_schedule'"
     ]
    }
   ],
   "source": [
    "loan.get_cashflow_schedule(apr,principal,nterms,date0,dateT)"
   ]
  }
 ],
 "metadata": {
  "kernelspec": {
   "display_name": "Python 2",
   "language": "python",
   "name": "python2"
  },
  "language_info": {
   "codemirror_mode": {
    "name": "ipython",
    "version": 2
   },
   "file_extension": ".py",
   "mimetype": "text/x-python",
   "name": "python",
   "nbconvert_exporter": "python",
   "pygments_lexer": "ipython2",
   "version": "2.7.10"
  }
 },
 "nbformat": 4,
 "nbformat_minor": 2
}
